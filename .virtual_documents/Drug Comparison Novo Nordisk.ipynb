





import pandas as pd
import numpy as np
import seaborn as sns
import plotly as py
import plotly.express as px
import plotly.graph_objects as go
import matplotlib
import matplotlib.pyplot as plt
import scipy.stats as stats
%matplotlib inline

import warnings

warnings.filterwarnings('ignore')

pd.set_option('display.max_columns', None)


data = pd.read_excel(".\CaseStudyStatP23.xlsx")


## Defining objectives of the study
## ^^^^^^^^^^^^^^^^^^^^^^^^^^^^^^^^

# 1. Check if there is any difference between the Demographical variables and the result variables
# 2. correlation between the continuous data

## What to do
## ^^^^^^^^^

# 1. Create a new data set with new columns with values recorded at each visit - Done
# 2. Check the categorical values, if they are same in all the visits or not (Treatment, Gender, Age, Race, Country) - Done
# 3. Apply test for checking which treatment is better accross Demographical Variables
# 4. Create two datasets with treatment A and treatment B - Done


data


visit0 = data[data["Visit"] == 0]
visit1 = data[data["Visit"] == 1]
visit2 = data[data["Visit"] == 2]
visit3 = data[data["Visit"] == 3]


print(sum(np.array(visit0.Gender) != np.array(visit1.Gender)))
print(sum(np.array(visit0.Gender) != np.array(visit2.Gender)))
print(sum(np.array(visit0.Gender) != np.array(visit3.Gender)))
print(sum(np.array(visit1.Gender) != np.array(visit2.Gender)))
print(sum(np.array(visit1.Gender) != np.array(visit3.Gender)))
print(sum(np.array(visit2.Gender) != np.array(visit3.Gender)))


print(sum(np.array(visit0['Treatment']) != np.array(visit1['Treatment'])))
print(sum(np.array(visit0['Treatment']) != np.array(visit2['Treatment'])))
print(sum(np.array(visit0['Treatment']) != np.array(visit3['Treatment'])))
print(sum(np.array(visit1['Treatment']) != np.array(visit2['Treatment'])))
print(sum(np.array(visit1['Treatment']) != np.array(visit3['Treatment'])))
print(sum(np.array(visit2['Treatment']) != np.array(visit3['Treatment'])))


print(sum(np.array(visit0['Age']) != np.array(visit1['Age'])))
print(sum(np.array(visit0['Age']) != np.array(visit2['Age'])))
print(sum(np.array(visit0['Age']) != np.array(visit3['Age'])))
print(sum(np.array(visit1['Age']) != np.array(visit2['Age'])))
print(sum(np.array(visit1['Age']) != np.array(visit3['Age'])))
print(sum(np.array(visit2['Age']) != np.array(visit3['Age'])))


print(sum(np.array(visit0['Race']) != np.array(visit1['Race'])))
print(sum(np.array(visit0['Race']) != np.array(visit2['Race'])))
print(sum(np.array(visit0['Race']) != np.array(visit3['Race'])))
print(sum(np.array(visit1['Race']) != np.array(visit2['Race'])))
print(sum(np.array(visit1['Race']) != np.array(visit3['Race'])))
print(sum(np.array(visit2['Race']) != np.array(visit3['Race'])))


print(sum(np.array(visit0['Country']) != np.array(visit1['Country'])))
print(sum(np.array(visit0['Country']) != np.array(visit2['Country'])))
print(sum(np.array(visit0['Country']) != np.array(visit3['Country'])))
print(sum(np.array(visit1['Country']) != np.array(visit2['Country'])))
print(sum(np.array(visit1['Country']) != np.array(visit3['Country'])))
print(sum(np.array(visit2['Country']) != np.array(visit3['Country'])))


print(sum(np.array(visit0['MedIncome']) != np.array(visit1['MedIncome'])))
print(sum(np.array(visit0['MedIncome']) != np.array(visit2['MedIncome'])))
print(sum(np.array(visit0['MedIncome']) != np.array(visit3['MedIncome'])))
print(sum(np.array(visit1['MedIncome']) != np.array(visit2['MedIncome'])))
print(sum(np.array(visit1['MedIncome']) != np.array(visit3['MedIncome'])))
print(sum(np.array(visit2['MedIncome']) != np.array(visit3['MedIncome'])))


raw_data = pd.DataFrame({
    "ID": np.array(visit0.ID),
    "Treatment": np.array(visit0.Treatment),
    "Gender0": np.array(visit0.Gender),
    "Gender1": np.array(visit1.Gender),
    "Gender2": np.array(visit2.Gender),
    "Gender3": np.array(visit3.Gender),
    "Age": np.array(visit0.Age),
    "Race": np.array(visit0.Race),
    "Country": np.array(visit0.Country),
    "MedIncome": np.array(visit0.MedIncome),
    "BMI_0": np.array(visit0.BMI),
    "BMI_1": np.array(visit1.BMI),
    "BMI_2": np.array(visit2.BMI),
    "BMI_3": np.array(visit3.BMI),
    "weight_0": np.array(visit0.weight),
    "weight_1": np.array(visit1.weight),
    "weight_2": np.array(visit2.weight),
    "weight_3": np.array(visit3.weight),
    "UCS_0": np.array(visit0.UCS),
    "UCS_1": np.array(visit1.UCS),
    "UCS_2": np.array(visit2.UCS),
    "UCS_3": np.array(visit3.UCS),
    "ECS_0": np.array(visit0.ECS),
    "ECS_1": np.array(visit1.ECS),
    "ECS_2": np.array(visit2.ECS),
    "ECS_3": np.array(visit3.ECS),
    "RCS_0": np.array(visit0.RCS),
    "RCS_1": np.array(visit1.RCS),
    "RCS_2": np.array(visit2.RCS),
    "RCS_3": np.array(visit3.RCS),
})


visit0.Gender.value_counts()
# Need to categorise one observation for male and another observation to female to balance data


raw_data[np.array(visit0.Gender) != np.array(visit2.Gender)]


raw_data[(raw_data.Age == 14) & (raw_data.Race == 'Hispanic')]


raw_data[(raw_data.Age == 15) & (raw_data.Race == 'African')]


px.histogram(raw_data.loc[(raw_data['Gender0'] == 'Male')
                          & (raw_data['Gender2'] == 'Male') &
                          (raw_data['Race'] == 'Hispanic')].MedIncome)
# Hispanic male individuals have their median income ranging from 10k to 35k


px.histogram(raw_data.loc[(raw_data['Gender0'] == 'Female')
                          & (raw_data['Gender2'] == 'Female') &
                          (raw_data['Race'] == 'African')].MedIncome)
# African female individuals have their median income ranging from 5k to 10k


# Based on the filters and above visualizations for finding the range of data
# Observation with Gender descrepency of age = 14 and Race = Hispanic is  male based on medIncome
# Observation with Gender descrepency of age = 15 and Race = African is female based on medIncome


raw_data.loc[(raw_data.Age == 15) & (raw_data.Gender0 == 'Male') &
             (raw_data.Gender2 == "Female"), "Gender0"] = "Female"


raw_data.drop(labels=['Gender1', 'Gender2', "Gender3"], axis=1, inplace=True)


raw_data


raw_data.Gender0.value_counts()





fig = px.box(x='Race',
             y='BMI',
             color='Gender',
             data_frame=data,
             points='all',
             notched=True)
fig.update_traces(boxmean=True)
fig


fig = px.box(x='Age',
             y='weight',
             color='Gender',
             data_frame=data,
             points='all',
             notched=True)
fig.update_traces(boxmean=True)
fig





def compare(dt1, dt2, det=True):
    dt1_mean = dt1.mean()
    dt2_mean = dt2.mean()
    dt1_std = dt1.std()
    dt2_std = dt2.std()
    dt1_test = stats.shapiro(dt1).pvalue
    dt2_test = stats.shapiro(dt2).pvalue
    if (det == True):
        print('dt1 mean : ', dt1_mean)
        print('dt1 std  : ', dt1_std)
        print('dt2 mean : ', dt2_mean)
        print('dt2 std  : ', dt2_std)
    if (dt1_test >= 0.05) & (dt2_test >= 0.05):
        t_type = "T test"
        test = stats.ttest_ind(dt1, dt2).pvalue
        if det == True:
            print("T Test for comparing two means")
            print(test)
    else:
        t_type = "mann whitney U"
        test = stats.mannwhitneyu(dt1, dt2).pvalue
        if det == True:
            print("Mann whitney U test for comparing two means")
            print(test)

    return ({
        'dt1_mean': dt1_mean,
        'dt2_mean': dt2_mean,
        "dt1_std": dt1_std,
        "dt2_std": dt2_std,
        "dt1_test": dt1_test,
        "dt2_test": dt2_test,
        "T type": t_type,
        "test": test
    })





tab = pd.DataFrame({
    'dt1_mean': [0],
    'dt2_mean': [0],
    "dt1_std": [0],
    "dt2_std": [0],
    "dt1_test": [0],
    "dt2_test": [0],
    "T type": [0],
    "test": [0],
    'Race': [0]
})
for i in raw_data.Race.unique():
    race = raw_data[raw_data.Race == i]
    male = race[race.Gender0 == 'Male']
    female = race[race.Gender0 == 'Female']
    res = compare(male.BMI_0, female.BMI_0, det=False)
    res['Race'] = i
    tab.loc[len(tab)] = res.values()
tab[1:]


tab = pd.DataFrame({
    'dt1_mean': [0],
    'dt2_mean': [0],
    "dt1_std": [0],
    "dt2_std": [0],
    "dt1_test": [0],
    "dt2_test": [0],
    "T type": [0],
    "test": [0],
    "Race": [0]
})
for i in raw_data.Race.unique():
    race = raw_data[raw_data.Race == i]
    male = race[race.Gender0 == 'Male']
    female = race[race.Gender0 == 'Female']
    res = compare(male.BMI_1, female.BMI_1, det=False)
    res['Race'] = i
    tab.loc[len(tab)] = res.values()
tab[1:]


tab = pd.DataFrame({
    'dt1_mean': [0],
    'dt2_mean': [0],
    "dt1_std": [0],
    "dt2_std": [0],
    "dt1_test": [0],
    "dt2_test": [0],
    "T type": [0],
    "test": [0],
    "Race": [0]
})
for i in raw_data.Race.unique():
    race = raw_data[raw_data.Race == i]
    male = race[race.Gender0 == 'Male']
    female = race[race.Gender0 == 'Female']
    res = compare(male.BMI_2, female.BMI_2, det=False)
    res['Race'] = i
    tab.loc[len(tab)] = res.values()
tab[1:]


tab = pd.DataFrame({
    'dt1_mean': [0],
    'dt2_mean': [0],
    "dt1_std": [0],
    "dt2_std": [0],
    "dt1_test": [0],
    "dt2_test": [0],
    "T type": [0],
    "test": [0],
    "Race": [0]
})
for i in raw_data.Race.unique():
    race = raw_data[raw_data.Race == i]
    male = race[race.Gender0 == 'Male']
    female = race[race.Gender0 == 'Female']
    res = compare(male.BMI_3, female.BMI_3, det=False)
    res['Race'] = i
    tab.loc[len(tab)] = res.values()
tab[1:]








%%capture
"""
Test the difference between Weight0 and Weight1 and then test between the treatments
"""


# DIVIDING DATASET INTO TWO SETS
tre_A = raw_data[raw_data["Treatment"] == 'A']
tre_B = raw_data[raw_data["Treatment"] == 'B']


raw_data.BMI_0.mean(), raw_data.BMI_1.mean(), raw_data.BMI_2.mean(
), raw_data.BMI_3.mean()


raw_data.BMI_0.std(), raw_data.BMI_1.std(), raw_data.BMI_2.std(
), raw_data.BMI_3.std()


tre_A.BMI_0.mean(), tre_A.BMI_1.mean(), tre_A.BMI_2.mean(), tre_A.BMI_3.mean()


tre_A.BMI_0.std(), tre_A.BMI_1.std(), tre_A.BMI_2.std(), tre_A.BMI_3.std()


tre_B.BMI_0.mean(), tre_B.BMI_1.mean(), tre_B.BMI_2.mean(), tre_B.BMI_3.mean()


tre_B.BMI_0.std(), tre_B.BMI_1.std(), tre_B.BMI_2.std(), tre_B.BMI_3.std()





%%capture
"""
Differences between weights of levels:
weight0 - weight1
weight0 - weight2
weight0 - weight3
"""


diff_A = tre_A.weight_0 - tre_A.weight_1
diff_B = tre_B.weight_0 - tre_B.weight_1


res = compare(diff_A, diff_B)


diff_A = tre_A.weight_0 - tre_A.weight_2
diff_B = tre_B.weight_0 - tre_B.weight_2


res = compare(diff_A, diff_B)


diff_A = tre_A.weight_0 - tre_A.weight_3
diff_B = tre_B.weight_0 - tre_B.weight_3


res = compare(diff_A, diff_B)





tab = pd.DataFrame({
    'dt1_mean': [0],
    'dt2_mean': [0],
    "dt1_std": [0],
    "dt2_std": [0],
    "dt1_test": [0],
    "dt2_test": [0],
    "T type": [0],
    "test": [0],
    "Race": [0]
})
for i in raw_data.Gender0.unique():
    gen_a = tre_A[tre_A.Gender0 == i].weight_0 - tre_A[tre_A.Gender0 ==
                                                       i].weight_1
    gen_b = tre_B[tre_B.Gender0 == i].weight_0 - tre_B[tre_B.Gender0 ==
                                                       i].weight_1
    res = compare(gen_a, gen_b, det=False)
    res['Age'] = i
    tab.loc[len(tab)] = res.values()
tab[1:]


tab = pd.DataFrame({
    'dt1_mean': [0],
    'dt2_mean': [0],
    "dt1_std": [0],
    "dt2_std": [0],
    "dt1_test": [0],
    "dt2_test": [0],
    "T type": [0],
    "test": [0],
    "Race": [0]
})
for i in raw_data.Gender0.unique():
    gen_a = tre_A[tre_A.Gender0 == i].weight_0 - tre_A[tre_A.Gender0 ==
                                                       i].weight_2
    gen_b = tre_B[tre_B.Gender0 == i].weight_0 - tre_B[tre_B.Gender0 ==
                                                       i].weight_2
    res = compare(gen_a, gen_b, det=False)
    res['Age'] = i
    tab.loc[len(tab)] = res.values()
tab[1:]


tab = pd.DataFrame({
    'dt1_mean': [0],
    'dt2_mean': [0],
    "dt1_std": [0],
    "dt2_std": [0],
    "dt1_test": [0],
    "dt2_test": [0],
    "T type": [0],
    "test": [0],
    "Race": [0]
})
for i in raw_data.Gender0.unique():
    gen_a = tre_A[tre_A.Gender0 == i].weight_0 - tre_A[tre_A.Gender0 ==
                                                       i].weight_3
    gen_b = tre_B[tre_B.Gender0 == i].weight_0 - tre_B[tre_B.Gender0 ==
                                                       i].weight_3
    res = compare(gen_a, gen_b, det=False)
    res['Age'] = i
    tab.loc[len(tab)] = res.values()
tab[1:]








tab = pd.DataFrame({
    'dt1_mean': [0],
    'dt2_mean': [0],
    "dt1_std": [0],
    "dt2_std": [0],
    "dt1_test": [0],
    "dt2_test": [0],
    "T type": [0],
    "test": [0],
    "Race": [0]
})
for i in raw_data.Gender0.unique():
    gen_a = tre_A[tre_A.Gender0 == i].BMI_0 - tre_A[tre_A.Gender0 == i].BMI_1
    gen_b = tre_B[tre_B.Gender0 == i].BMI_0 - tre_B[tre_B.Gender0 == i].BMI_1
    res = compare(gen_a, gen_b, det=False)
    res['Age'] = i
    tab.loc[len(tab)] = res.values()
tab[1:]


tab = pd.DataFrame({
    'dt1_mean': [0],
    'dt2_mean': [0],
    "dt1_std": [0],
    "dt2_std": [0],
    "dt1_test": [0],
    "dt2_test": [0],
    "T type": [0],
    "test": [0],
    "Race": [0]
})
for i in raw_data.Gender0.unique():
    gen_a = tre_A[tre_A.Gender0 == i].BMI_0 - tre_A[tre_A.Gender0 == i].BMI_2
    gen_b = tre_B[tre_B.Gender0 == i].BMI_0 - tre_B[tre_B.Gender0 == i].BMI_2
    res = compare(gen_a, gen_b, det=False)
    res['Age'] = i
    tab.loc[len(tab)] = res.values()
tab[1:]


tab = pd.DataFrame({
    'dt1_mean': [0],
    'dt2_mean': [0],
    "dt1_std": [0],
    "dt2_std": [0],
    "dt1_test": [0],
    "dt2_test": [0],
    "T type": [0],
    "test": [0],
    "Race": [0]
})
for i in raw_data.Gender0.unique():
    gen_a = tre_A[tre_A.Gender0 == i].BMI_0 - tre_A[tre_A.Gender0 == i].BMI_3
    gen_b = tre_B[tre_B.Gender0 == i].BMI_0 - tre_B[tre_B.Gender0 == i].BMI_3
    res = compare(gen_a, gen_b, det=False)
    res['Age'] = i
    tab.loc[len(tab)] = res.values()
tab[1:]

















tab = pd.DataFrame({
    'dt1_mean': [0],
    'dt2_mean': [0],
    "dt1_std": [0],
    "dt2_std": [0],
    "dt1_test": [0],
    "dt2_test": [0],
    "T type": [0],
    "test": [0],
    "Race": [0]
})
for i in raw_data.Age.unique():
    age_a = tre_A[tre_A.Age == i].weight_0 - tre_A[tre_A.Age == i].weight_1
    age_b = tre_B[tre_B.Age == i].weight_0 - tre_B[tre_B.Age == i].weight_1
    res = compare(age_a, age_b, det=False)
    res['Age'] = i
    tab.loc[len(tab)] = res.values()
tab[1:]


tab = pd.DataFrame({
    'dt1_mean': [0],
    'dt2_mean': [0],
    "dt1_std": [0],
    "dt2_std": [0],
    "dt1_test": [0],
    "dt2_test": [0],
    "T type": [0],
    "test": [0],
    "Race": [0]
})
for i in raw_data.Age.unique():
    age_a = tre_A[tre_A.Age == i].weight_0 - tre_A[tre_A.Age == i].weight_2
    age_b = tre_B[tre_B.Age == i].weight_0 - tre_B[tre_B.Age == i].weight_2
    res = compare(age_a, age_b, det=False)
    res['Age'] = i
    tab.loc[len(tab)] = res.values()
tab[1:]


tab = pd.DataFrame({
    'dt1_mean': [0],
    'dt2_mean': [0],
    "dt1_std": [0],
    "dt2_std": [0],
    "dt1_test": [0],
    "dt2_test": [0],
    "T type": [0],
    "test": [0],
    "Race": [0]
})
for i in raw_data.Age.unique():
    age_a = tre_A[tre_A.Age == i].weight_0 - tre_A[tre_A.Age == i].weight_3
    age_b = tre_B[tre_B.Age == i].weight_0 - tre_B[tre_B.Age == i].weight_3
    res = compare(age_a, age_b, det=False)
    res['Age'] = i
    tab.loc[len(tab)] = res.values()
tab[1:]








tab = pd.DataFrame({
    'dt1_mean': [0],
    'dt2_mean': [0],
    "dt1_std": [0],
    "dt2_std": [0],
    "dt1_test": [0],
    "dt2_test": [0],
    "T type": [0],
    "test": [0],
    "Race": [0]
})
for i in raw_data.Age.unique():
    age_a = tre_A[tre_A.Age == i].BMI_0 - tre_A[tre_A.Age == i].BMI_1
    age_b = tre_B[tre_B.Age == i].BMI_0 - tre_B[tre_B.Age == i].BMI_1
    res = compare(age_a, age_b, det=False)
    res['Age'] = i
    tab.loc[len(tab)] = res.values()
tab[1:]


tab = pd.DataFrame({
    'dt1_mean': [0],
    'dt2_mean': [0],
    "dt1_std": [0],
    "dt2_std": [0],
    "dt1_test": [0],
    "dt2_test": [0],
    "T type": [0],
    "test": [0],
    "Race": [0]
})
for i in raw_data.Age.unique():
    age_a = tre_A[tre_A.Age == i].BMI_0 - tre_A[tre_A.Age == i].BMI_2
    age_b = tre_B[tre_B.Age == i].BMI_0 - tre_B[tre_B.Age == i].BMI_2
    res = compare(age_a, age_b, det=False)
    res['Age'] = i
    tab.loc[len(tab)] = res.values()
tab[1:]


tab = pd.DataFrame({
    'dt1_mean': [0],
    'dt2_mean': [0],
    "dt1_std": [0],
    "dt2_std": [0],
    "dt1_test": [0],
    "dt2_test": [0],
    "T type": [0],
    "test": [0],
    "Race": [0]
})
for i in raw_data.Age.unique():
    age_a = tre_A[tre_A.Age == i].BMI_0 - tre_A[tre_A.Age == i].BMI_3
    age_b = tre_B[tre_B.Age == i].BMI_0 - tre_B[tre_B.Age == i].BMI_3
    res = compare(age_a, age_b, det=False)
    res['Age'] = i
    tab.loc[len(tab)] = res.values()
tab[1:]














tab = pd.DataFrame({
    'dt1_mean': [0],
    'dt2_mean': [0],
    "dt1_std": [0],
    "dt2_std": [0],
    "dt1_test": [0],
    "dt2_test": [0],
    "T type": [0],
    "test": [0],
    "Race": [0]
})
for i in raw_data.Race.unique():
    race_a = tre_A[tre_A.Race == i].weight_0 - tre_A[tre_A.Race == i].weight_1
    race_b = tre_B[tre_B.Race == i].weight_0 - tre_B[tre_B.Race == i].weight_1
    res = compare(race_a, race_b, det=False)
    res['Age'] = i
    tab.loc[len(tab)] = res.values()
tab[1:]


tab = pd.DataFrame({
    'dt1_mean': [0],
    'dt2_mean': [0],
    "dt1_std": [0],
    "dt2_std": [0],
    "dt1_test": [0],
    "dt2_test": [0],
    "T type": [0],
    "test": [0],
    "Race": [0]
})
for i in raw_data.Race.unique():
    race_a = tre_A[tre_A.Race == i].weight_0 - tre_A[tre_A.Race == i].weight_2
    race_b = tre_B[tre_B.Race == i].weight_0 - tre_B[tre_B.Race == i].weight_2
    res = compare(race_a, race_b, det=False)
    res['Age'] = i
    tab.loc[len(tab)] = res.values()
tab[1:]


tab = pd.DataFrame({
    'dt1_mean': [0],
    'dt2_mean': [0],
    "dt1_std": [0],
    "dt2_std": [0],
    "dt1_test": [0],
    "dt2_test": [0],
    "T type": [0],
    "test": [0],
    "Race": [0]
})
for i in raw_data.Race.unique():
    race_a = tre_A[tre_A.Race == i].weight_0 - tre_A[tre_A.Race == i].weight_3
    race_b = tre_B[tre_B.Race == i].weight_0 - tre_B[tre_B.Race == i].weight_3
    res = compare(race_a, race_b, det=False)
    res['Age'] = i
    tab.loc[len(tab)] = res.values()
tab[1:]





tab = pd.DataFrame({
    'dt1_mean': [0],
    'dt2_mean': [0],
    "dt1_std": [0],
    "dt2_std": [0],
    "dt1_test": [0],
    "dt2_test": [0],
    "T type": [0],
    "test": [0],
    "Race": [0]
})
for i in raw_data.Race.unique():
    race_a = tre_A[tre_A.Race == i].BMI_0 - tre_A[tre_A.Race == i].BMI_1
    race_b = tre_B[tre_B.Race == i].BMI_0 - tre_B[tre_B.Race == i].BMI_1
    res = compare(race_a, race_b, det=False)
    res['Age'] = i
    tab.loc[len(tab)] = res.values()
tab[1:]


tab = pd.DataFrame({
    'dt1_mean': [0],
    'dt2_mean': [0],
    "dt1_std": [0],
    "dt2_std": [0],
    "dt1_test": [0],
    "dt2_test": [0],
    "T type": [0],
    "test": [0],
    "Race": [0]
})
for i in raw_data.Race.unique():
    race_a = tre_A[tre_A.Race == i].BMI_0 - tre_A[tre_A.Race == i].BMI_2
    race_b = tre_B[tre_B.Race == i].BMI_0 - tre_B[tre_B.Race == i].BMI_2
    res = compare(race_a, race_b, det=False)
    res['Age'] = i
    tab.loc[len(tab)] = res.values()
tab[1:]


tab = pd.DataFrame({
    'dt1_mean': [0],
    'dt2_mean': [0],
    "dt1_std": [0],
    "dt2_std": [0],
    "dt1_test": [0],
    "dt2_test": [0],
    "T type": [0],
    "test": [0],
    "Race": [0]
})
for i in raw_data.Race.unique():
    race_a = tre_A[tre_A.Race == i].BMI_0 - tre_A[tre_A.Race == i].BMI_3
    race_b = tre_B[tre_B.Race == i].BMI_0 - tre_B[tre_B.Race == i].BMI_3
    res = compare(race_a, race_b, det=False)
    res['Age'] = i
    tab.loc[len(tab)] = res.values()
tab[1:]



